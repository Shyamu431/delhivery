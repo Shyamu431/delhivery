{
 "cells": [
  {
   "cell_type": "code",
   "execution_count": null,
   "id": "b7de306f-8a27-4c29-9b98-7330cd890337",
   "metadata": {},
   "outputs": [],
   "source": []
  },
  {
   "cell_type": "markdown",
   "id": "aed472ac-cafd-43e0-9041-39458cbc4f16",
   "metadata": {},
   "source": [
    "# Data Processing and Feature Engineering for Enhanced Forecasting Models at Delhivery"
   ]
  },
  {
   "cell_type": "code",
   "execution_count": 101,
   "id": "0c85cca7-d927-4e3c-a972-d85ef247d4ef",
   "metadata": {},
   "outputs": [],
   "source": [
    "import pandas as pd\n",
    "import numpy as np\n",
    "import matplotlib.pyplot as plt\n",
    "import seaborn as sns\n",
    "%matplotlib inline"
   ]
  },
  {
   "cell_type": "code",
   "execution_count": null,
   "id": "169e08c8-7053-4666-a4bc-02cd5006564c",
   "metadata": {},
   "outputs": [],
   "source": [
    "df = pd.read_csv(\"https://d2beiqkhq929f0.cloudfront.net/public_assets/assets/000/001/551/original/delhivery_data.csv?1642751181\")\n",
    "df.head(5)"
   ]
  },
  {
   "cell_type": "code",
   "execution_count": null,
   "id": "ce7c53cf-62f9-4bda-b4bf-6ba076d4a319",
   "metadata": {},
   "outputs": [],
   "source": [
    "# Dimension of the dataset\n",
    "df.ndim"
   ]
  },
  {
   "cell_type": "code",
   "execution_count": null,
   "id": "191497fd-1dc8-4d6e-8416-7858c5600148",
   "metadata": {},
   "outputs": [],
   "source": [
    "# Shape of dataset\n",
    "print(\"Shape: \",df.shape)"
   ]
  },
  {
   "cell_type": "code",
   "execution_count": null,
   "id": "4f8322b3-0672-46b4-8f76-e778fd01709c",
   "metadata": {},
   "outputs": [],
   "source": [
    "# Concise summary of dataframe\n",
    "df.info()"
   ]
  },
  {
   "cell_type": "code",
   "execution_count": null,
   "id": "e16a6024-4ab9-44b0-80a9-767843b5d4c2",
   "metadata": {},
   "outputs": [],
   "source": [
    "# Number of duplicate values\n",
    "df.duplicated().sum()"
   ]
  },
  {
   "cell_type": "code",
   "execution_count": null,
   "id": "91d63139-c2cd-4316-a273-6aa584b8020c",
   "metadata": {
    "scrolled": true
   },
   "outputs": [],
   "source": [
    "# Number of null values in each feature\n",
    "print(\"Total number of null values: \",df.isna().sum().sum())\n",
    "print(df.isna().sum())"
   ]
  },
  {
   "cell_type": "markdown",
   "id": "0633d72e-aab2-4991-8fa9-6de93250d078",
   "metadata": {},
   "source": [
    "#### Removing null values"
   ]
  },
  {
   "cell_type": "code",
   "execution_count": null,
   "id": "b5da4b04-1e72-4066-816a-096e8a7aa6b2",
   "metadata": {},
   "outputs": [],
   "source": [
    "df = df.dropna(how='any')\n",
    "df = df.reset_index(drop=True)"
   ]
  },
  {
   "cell_type": "markdown",
   "id": "84f31e89-56e9-46ea-bd33-8cdcb71cc49e",
   "metadata": {},
   "source": [
    "#### Converting time columns into pandas dataframe"
   ]
  },
  {
   "cell_type": "code",
   "execution_count": null,
   "id": "6957cb07-bdb2-4597-8289-bd16ed5c9745",
   "metadata": {},
   "outputs": [],
   "source": [
    "df['od_start_time'] = pd.to_datetime(df['od_start_time'])\n",
    "df['od_end_time'] = pd.to_datetime(df['od_end_time'])"
   ]
  },
  {
   "cell_type": "code",
   "execution_count": null,
   "id": "12deb366-227f-4fa5-a8ca-75fd85c52dad",
   "metadata": {},
   "outputs": [],
   "source": [
    "# Converting object into category type\n",
    "df['data'] = df['data'].astype('category')\n",
    "df['route_type'] = df['route_type'].astype('category')"
   ]
  },
  {
   "cell_type": "code",
   "execution_count": null,
   "id": "34212cdb-0cea-4e8b-ae33-5d5f8708ba4c",
   "metadata": {},
   "outputs": [],
   "source": [
    "df.info()"
   ]
  },
  {
   "cell_type": "code",
   "execution_count": null,
   "id": "2100a772-71d0-4dc3-9fe1-aa237ec26609",
   "metadata": {},
   "outputs": [],
   "source": [
    "df['segment'] = df['trip_uuid'] + df['source_center'] + df['destination_center']\n",
    "\n",
    "segment_cols = ['segment_actual_time', 'segment_osrm_time', 'segment_osrm_distance']\n",
    "\n",
    "for col in segment_cols:\n",
    "    df[col+ '_sum'] = df.groupby('segment')[col].cumsum()\n",
    "\n",
    "df[[col+ '_sum' for col in segment_cols]]"
   ]
  },
  {
   "cell_type": "markdown",
   "id": "75637c15-b739-4948-92ff-89548caec7c0",
   "metadata": {},
   "source": [
    "#### Aggregating at sub-journey level"
   ]
  },
  {
   "cell_type": "code",
   "execution_count": null,
   "id": "30974d91-8ffa-4130-b856-dc083da2adb8",
   "metadata": {},
   "outputs": [],
   "source": [
    "create_segment_dict = {\n",
    "    'data' : 'first',\n",
    "    'trip_creation_time': 'first',\n",
    "    'route_schedule_uuid' : 'first',\n",
    "    'route_type' : 'first',\n",
    "    'trip_uuid' : 'first',\n",
    "    'source_center' : 'first',\n",
    "    'source_name' : 'first',\n",
    "\n",
    "    'destination_center' : 'last',\n",
    "    'destination_name' : 'last',\n",
    "\n",
    "    'od_start_time' : 'first',\n",
    "    'od_end_time' : 'first',\n",
    "    'start_scan_to_end_scan' : 'first',\n",
    "\n",
    "    'actual_distance_to_destination' : 'last',\n",
    "    'actual_time' : 'last',\n",
    "\n",
    "    'osrm_time' : 'last',\n",
    "    'osrm_distance' : 'last',\n",
    "\n",
    "    'segment_actual_time_sum' : 'last',\n",
    "    'segment_osrm_distance_sum' : 'last',\n",
    "    'segment_osrm_time_sum' : 'last',\n",
    "\n",
    "    }\n",
    "    "
   ]
  },
  {
   "cell_type": "markdown",
   "id": "52bdbf75-6ee3-49ab-b864-5087ea096921",
   "metadata": {},
   "source": [
    "#### Groupby mini-trips, sorting by time"
   ]
  },
  {
   "cell_type": "code",
   "execution_count": null,
   "id": "b60acf1d-ee20-4b27-b9f0-ff736e00112c",
   "metadata": {},
   "outputs": [],
   "source": [
    "segment = df.groupby('segment').agg(create_segment_dict).reset_index()\n",
    "segment = segment.sort_values(by=['segment','od_end_time'],ascending=True).reset_index(drop=True)"
   ]
  },
  {
   "cell_type": "code",
   "execution_count": null,
   "id": "1ff7f5bf-255d-4e89-bb51-c323ec9edc81",
   "metadata": {},
   "outputs": [],
   "source": [
    "segment"
   ]
  },
  {
   "cell_type": "code",
   "execution_count": null,
   "id": "a784ae61-5f26-4de6-ac26-3542e4cbc050",
   "metadata": {},
   "outputs": [],
   "source": [
    "# Concise summary\n",
    "segment.info()"
   ]
  },
  {
   "cell_type": "markdown",
   "id": "23ce6f82-d086-456c-ac2b-2e8f08b0c840",
   "metadata": {},
   "source": [
    "### Calculate time taken between od_start_time and od_end_time and keep it as a feature"
   ]
  },
  {
   "cell_type": "code",
   "execution_count": null,
   "id": "e276b8d9-f582-4388-b92b-bdb4d8600b79",
   "metadata": {},
   "outputs": [],
   "source": [
    "segment['ord_diff_hour'] = (segment['od_end_time'] - segment['od_start_time']).dt.total_seconds()/60\n",
    "segment['ord_diff_hour']"
   ]
  },
  {
   "cell_type": "markdown",
   "id": "015c6088-e554-485d-96a6-fbea5e053005",
   "metadata": {},
   "source": [
    "##### *ord_diff_hour is almost equal to start_scan_to_end_scan feature/column*"
   ]
  },
  {
   "cell_type": "code",
   "execution_count": null,
   "id": "7906d568-68bf-455f-aad3-8ab8c8b313c4",
   "metadata": {},
   "outputs": [],
   "source": [
    "create_trip_dict = {\n",
    "\n",
    "    'data' : 'first',\n",
    "    'trip_creation_time': 'first',\n",
    "    'route_schedule_uuid' : 'first',\n",
    "    'route_type' : 'first',\n",
    "    'trip_uuid' : 'first',\n",
    "\n",
    "    'source_center' : 'first',\n",
    "    'source_name' : 'first',\n",
    "\n",
    "    'destination_center' : 'last',\n",
    "    'destination_name' : 'last',\n",
    "\n",
    "    'start_scan_to_end_scan' : 'sum',\n",
    "    'ord_diff_hour' : 'sum',\n",
    "\n",
    "    'actual_distance_to_destination' : 'sum',\n",
    "    'actual_time' : 'sum',\n",
    "    'osrm_time' : 'sum',\n",
    "    'osrm_distance' : 'sum',\n",
    "\n",
    "    'segment_actual_time_sum' : 'sum',\n",
    "    'segment_osrm_distance_sum' : 'sum',\n",
    "    'segment_osrm_time_sum' : 'sum',\n",
    "\n",
    "    }"
   ]
  },
  {
   "cell_type": "code",
   "execution_count": null,
   "id": "9587f1c0-f7a2-4d93-b3f3-984f90ed520c",
   "metadata": {},
   "outputs": [],
   "source": [
    "# Peforming groupby on trip_uuid to find total time and distance of trip\n",
    "trips = segment.groupby('trip_uuid').agg(create_trip_dict).reset_index(drop=True)"
   ]
  },
  {
   "cell_type": "code",
   "execution_count": null,
   "id": "c19f96c1-1e00-4fd5-8466-b8eff13564d2",
   "metadata": {},
   "outputs": [],
   "source": [
    "trips.head()"
   ]
  },
  {
   "cell_type": "markdown",
   "id": "32e1a177-5f35-407f-9303-77308342962b",
   "metadata": {},
   "source": [
    "## Hypothesis testing"
   ]
  },
  {
   "cell_type": "code",
   "execution_count": null,
   "id": "602531f0-86db-49d9-9b86-7542d4409cab",
   "metadata": {},
   "outputs": [],
   "source": [
    "# lowering columns with string function\n",
    "trips['destination_name'] = trips['destination_name'].str.lower()\n",
    "trips['source_name'] = trips['source_name'].str.lower()"
   ]
  },
  {
   "cell_type": "code",
   "execution_count": null,
   "id": "79accd5c-74bb-4c56-9ec4-e98d979f77c5",
   "metadata": {},
   "outputs": [],
   "source": [
    "# Functions for creating features from destination name\n",
    "def place_to_state(x):\n",
    "    state = x.split('(')[1][:-1]\n",
    "    return state\n",
    "\n",
    "def place_to_city(x):\n",
    "    city = x.split('(')[0].split('_')[0]\n",
    "    return city\n",
    "\n",
    "def place_to_city_place(x):\n",
    "    x = x.split(' (')[0]\n",
    "\n",
    "    length = len(x.split('_'))\n",
    "\n",
    "    if length >= 3:\n",
    "        return x.split('_')[1]\n",
    "\n",
    "    if length == 2:\n",
    "        return x.split('_')[0]\n",
    "\n",
    "    return x.split(' ')[0]\n",
    "\n",
    "\n",
    "def place_to_code(x):\n",
    "    x = x.split(' (')[0]\n",
    "\n",
    "    if len(x.split('_')) >=3:\n",
    "        return x.split('_')[-1]\n",
    "    return None"
   ]
  },
  {
   "cell_type": "code",
   "execution_count": null,
   "id": "79087294-9eb2-4787-ac68-906764a82489",
   "metadata": {},
   "outputs": [],
   "source": [
    "trips['destination_state'] = trips['destination_name'].apply(lambda x: place_to_state(x))\n",
    "trips['destination_city']  = trips['destination_name'].apply(lambda x: place_to_city(x))\n",
    "trips['destination_place'] = trips['destination_name'].apply(lambda x: place_to_city_place(x))\n",
    "trips['destination_code']  = trips['destination_name'].apply(lambda x: place_to_code(x))"
   ]
  },
  {
   "cell_type": "code",
   "execution_count": null,
   "id": "114b3d75-5d11-44fa-9ead-36505811653a",
   "metadata": {},
   "outputs": [],
   "source": [
    "# Last 5 columns\n",
    "trips.select_dtypes('object').iloc[:,-5:]"
   ]
  },
  {
   "cell_type": "markdown",
   "id": "71d3f13f-56de-49bd-a59c-82ecf17a60df",
   "metadata": {},
   "source": [
    "### Changing required column into datetime"
   ]
  },
  {
   "cell_type": "code",
   "execution_count": null,
   "id": "483fe20f-7348-43c3-a9bf-626866c8e83c",
   "metadata": {},
   "outputs": [],
   "source": [
    "trips['trip_creation_time'] = pd.to_datetime(trips['trip_creation_time'])\n",
    "\n",
    "trips['year'] = trips['trip_creation_time'].dt.year\n",
    "trips['month'] = trips['trip_creation_time'].dt.month\n",
    "trips['hour'] = trips['trip_creation_time'].dt.hour\n",
    "trips['day'] = trips['trip_creation_time'].dt.day\n",
    "trips['week'] = trips['trip_creation_time'].dt.isocalendar().week\n",
    "trips['dayofweek'] = trips['trip_creation_time'].dt.dayofweek"
   ]
  },
  {
   "cell_type": "code",
   "execution_count": 138,
   "id": "ed7b63b0-93b1-467a-8558-0de426807f3f",
   "metadata": {},
   "outputs": [
    {
     "data": {
      "text/html": [
       "<div>\n",
       "<style scoped>\n",
       "    .dataframe tbody tr th:only-of-type {\n",
       "        vertical-align: middle;\n",
       "    }\n",
       "\n",
       "    .dataframe tbody tr th {\n",
       "        vertical-align: top;\n",
       "    }\n",
       "\n",
       "    .dataframe thead th {\n",
       "        text-align: right;\n",
       "    }\n",
       "</style>\n",
       "<table border=\"1\" class=\"dataframe\">\n",
       "  <thead>\n",
       "    <tr style=\"text-align: right;\">\n",
       "      <th></th>\n",
       "      <th>year</th>\n",
       "      <th>month</th>\n",
       "      <th>hour</th>\n",
       "      <th>day</th>\n",
       "      <th>week</th>\n",
       "      <th>dayofweek</th>\n",
       "    </tr>\n",
       "  </thead>\n",
       "  <tbody>\n",
       "    <tr>\n",
       "      <th>0</th>\n",
       "      <td>2018</td>\n",
       "      <td>9</td>\n",
       "      <td>0</td>\n",
       "      <td>12</td>\n",
       "      <td>37</td>\n",
       "      <td>2</td>\n",
       "    </tr>\n",
       "    <tr>\n",
       "      <th>1</th>\n",
       "      <td>2018</td>\n",
       "      <td>9</td>\n",
       "      <td>0</td>\n",
       "      <td>12</td>\n",
       "      <td>37</td>\n",
       "      <td>2</td>\n",
       "    </tr>\n",
       "    <tr>\n",
       "      <th>2</th>\n",
       "      <td>2018</td>\n",
       "      <td>9</td>\n",
       "      <td>0</td>\n",
       "      <td>12</td>\n",
       "      <td>37</td>\n",
       "      <td>2</td>\n",
       "    </tr>\n",
       "    <tr>\n",
       "      <th>3</th>\n",
       "      <td>2018</td>\n",
       "      <td>9</td>\n",
       "      <td>0</td>\n",
       "      <td>12</td>\n",
       "      <td>37</td>\n",
       "      <td>2</td>\n",
       "    </tr>\n",
       "    <tr>\n",
       "      <th>4</th>\n",
       "      <td>2018</td>\n",
       "      <td>9</td>\n",
       "      <td>0</td>\n",
       "      <td>12</td>\n",
       "      <td>37</td>\n",
       "      <td>2</td>\n",
       "    </tr>\n",
       "    <tr>\n",
       "      <th>...</th>\n",
       "      <td>...</td>\n",
       "      <td>...</td>\n",
       "      <td>...</td>\n",
       "      <td>...</td>\n",
       "      <td>...</td>\n",
       "      <td>...</td>\n",
       "    </tr>\n",
       "    <tr>\n",
       "      <th>14782</th>\n",
       "      <td>2018</td>\n",
       "      <td>10</td>\n",
       "      <td>23</td>\n",
       "      <td>3</td>\n",
       "      <td>40</td>\n",
       "      <td>2</td>\n",
       "    </tr>\n",
       "    <tr>\n",
       "      <th>14783</th>\n",
       "      <td>2018</td>\n",
       "      <td>10</td>\n",
       "      <td>23</td>\n",
       "      <td>3</td>\n",
       "      <td>40</td>\n",
       "      <td>2</td>\n",
       "    </tr>\n",
       "    <tr>\n",
       "      <th>14784</th>\n",
       "      <td>2018</td>\n",
       "      <td>10</td>\n",
       "      <td>23</td>\n",
       "      <td>3</td>\n",
       "      <td>40</td>\n",
       "      <td>2</td>\n",
       "    </tr>\n",
       "    <tr>\n",
       "      <th>14785</th>\n",
       "      <td>2018</td>\n",
       "      <td>10</td>\n",
       "      <td>23</td>\n",
       "      <td>3</td>\n",
       "      <td>40</td>\n",
       "      <td>2</td>\n",
       "    </tr>\n",
       "    <tr>\n",
       "      <th>14786</th>\n",
       "      <td>2018</td>\n",
       "      <td>10</td>\n",
       "      <td>23</td>\n",
       "      <td>3</td>\n",
       "      <td>40</td>\n",
       "      <td>2</td>\n",
       "    </tr>\n",
       "  </tbody>\n",
       "</table>\n",
       "<p>14787 rows × 6 columns</p>\n",
       "</div>"
      ],
      "text/plain": [
       "       year  month  hour  day  week  dayofweek\n",
       "0      2018      9     0   12    37          2\n",
       "1      2018      9     0   12    37          2\n",
       "2      2018      9     0   12    37          2\n",
       "3      2018      9     0   12    37          2\n",
       "4      2018      9     0   12    37          2\n",
       "...     ...    ...   ...  ...   ...        ...\n",
       "14782  2018     10    23    3    40          2\n",
       "14783  2018     10    23    3    40          2\n",
       "14784  2018     10    23    3    40          2\n",
       "14785  2018     10    23    3    40          2\n",
       "14786  2018     10    23    3    40          2\n",
       "\n",
       "[14787 rows x 6 columns]"
      ]
     },
     "execution_count": 138,
     "metadata": {},
     "output_type": "execute_result"
    }
   ],
   "source": [
    "# New created features\n",
    "trips.iloc[:,-6:]"
   ]
  },
  {
   "cell_type": "code",
   "execution_count": 139,
   "id": "3f56ab87-f0d2-4650-b9c2-c8366b94402e",
   "metadata": {},
   "outputs": [
    {
     "data": {
      "text/html": [
       "<div>\n",
       "<style scoped>\n",
       "    .dataframe tbody tr th:only-of-type {\n",
       "        vertical-align: middle;\n",
       "    }\n",
       "\n",
       "    .dataframe tbody tr th {\n",
       "        vertical-align: top;\n",
       "    }\n",
       "\n",
       "    .dataframe thead th {\n",
       "        text-align: right;\n",
       "    }\n",
       "</style>\n",
       "<table border=\"1\" class=\"dataframe\">\n",
       "  <thead>\n",
       "    <tr style=\"text-align: right;\">\n",
       "      <th></th>\n",
       "      <th>start_scan_to_end_scan</th>\n",
       "      <th>ord_diff_hour</th>\n",
       "      <th>actual_distance_to_destination</th>\n",
       "      <th>actual_time</th>\n",
       "      <th>osrm_time</th>\n",
       "      <th>osrm_distance</th>\n",
       "      <th>segment_actual_time_sum</th>\n",
       "      <th>segment_osrm_distance_sum</th>\n",
       "      <th>segment_osrm_time_sum</th>\n",
       "    </tr>\n",
       "  </thead>\n",
       "  <tbody>\n",
       "    <tr>\n",
       "      <th>0</th>\n",
       "      <td>2259.0</td>\n",
       "      <td>2260.109800</td>\n",
       "      <td>824.732854</td>\n",
       "      <td>1562.0</td>\n",
       "      <td>717.0</td>\n",
       "      <td>991.3523</td>\n",
       "      <td>1548.0</td>\n",
       "      <td>1320.4733</td>\n",
       "      <td>1008.0</td>\n",
       "    </tr>\n",
       "    <tr>\n",
       "      <th>1</th>\n",
       "      <td>180.0</td>\n",
       "      <td>181.611874</td>\n",
       "      <td>73.186911</td>\n",
       "      <td>143.0</td>\n",
       "      <td>68.0</td>\n",
       "      <td>85.1110</td>\n",
       "      <td>141.0</td>\n",
       "      <td>84.1894</td>\n",
       "      <td>65.0</td>\n",
       "    </tr>\n",
       "    <tr>\n",
       "      <th>2</th>\n",
       "      <td>3933.0</td>\n",
       "      <td>3934.362520</td>\n",
       "      <td>1927.404273</td>\n",
       "      <td>3347.0</td>\n",
       "      <td>1740.0</td>\n",
       "      <td>2354.0665</td>\n",
       "      <td>3308.0</td>\n",
       "      <td>2545.2678</td>\n",
       "      <td>1941.0</td>\n",
       "    </tr>\n",
       "    <tr>\n",
       "      <th>3</th>\n",
       "      <td>100.0</td>\n",
       "      <td>100.494935</td>\n",
       "      <td>17.175274</td>\n",
       "      <td>59.0</td>\n",
       "      <td>15.0</td>\n",
       "      <td>19.6800</td>\n",
       "      <td>59.0</td>\n",
       "      <td>19.8766</td>\n",
       "      <td>16.0</td>\n",
       "    </tr>\n",
       "    <tr>\n",
       "      <th>4</th>\n",
       "      <td>717.0</td>\n",
       "      <td>718.349042</td>\n",
       "      <td>127.448500</td>\n",
       "      <td>341.0</td>\n",
       "      <td>117.0</td>\n",
       "      <td>146.7918</td>\n",
       "      <td>340.0</td>\n",
       "      <td>146.7919</td>\n",
       "      <td>115.0</td>\n",
       "    </tr>\n",
       "    <tr>\n",
       "      <th>...</th>\n",
       "      <td>...</td>\n",
       "      <td>...</td>\n",
       "      <td>...</td>\n",
       "      <td>...</td>\n",
       "      <td>...</td>\n",
       "      <td>...</td>\n",
       "      <td>...</td>\n",
       "      <td>...</td>\n",
       "      <td>...</td>\n",
       "    </tr>\n",
       "    <tr>\n",
       "      <th>14782</th>\n",
       "      <td>257.0</td>\n",
       "      <td>258.028928</td>\n",
       "      <td>57.762332</td>\n",
       "      <td>83.0</td>\n",
       "      <td>62.0</td>\n",
       "      <td>73.4630</td>\n",
       "      <td>82.0</td>\n",
       "      <td>64.8551</td>\n",
       "      <td>62.0</td>\n",
       "    </tr>\n",
       "    <tr>\n",
       "      <th>14783</th>\n",
       "      <td>60.0</td>\n",
       "      <td>60.590521</td>\n",
       "      <td>15.513784</td>\n",
       "      <td>21.0</td>\n",
       "      <td>12.0</td>\n",
       "      <td>16.0882</td>\n",
       "      <td>21.0</td>\n",
       "      <td>16.0883</td>\n",
       "      <td>11.0</td>\n",
       "    </tr>\n",
       "    <tr>\n",
       "      <th>14784</th>\n",
       "      <td>421.0</td>\n",
       "      <td>422.119867</td>\n",
       "      <td>38.684839</td>\n",
       "      <td>282.0</td>\n",
       "      <td>48.0</td>\n",
       "      <td>58.9037</td>\n",
       "      <td>281.0</td>\n",
       "      <td>104.8866</td>\n",
       "      <td>88.0</td>\n",
       "    </tr>\n",
       "    <tr>\n",
       "      <th>14785</th>\n",
       "      <td>347.0</td>\n",
       "      <td>348.512862</td>\n",
       "      <td>134.723836</td>\n",
       "      <td>264.0</td>\n",
       "      <td>179.0</td>\n",
       "      <td>171.1103</td>\n",
       "      <td>258.0</td>\n",
       "      <td>223.5324</td>\n",
       "      <td>221.0</td>\n",
       "    </tr>\n",
       "    <tr>\n",
       "      <th>14786</th>\n",
       "      <td>353.0</td>\n",
       "      <td>354.407571</td>\n",
       "      <td>66.081533</td>\n",
       "      <td>275.0</td>\n",
       "      <td>68.0</td>\n",
       "      <td>80.5787</td>\n",
       "      <td>274.0</td>\n",
       "      <td>80.5787</td>\n",
       "      <td>67.0</td>\n",
       "    </tr>\n",
       "  </tbody>\n",
       "</table>\n",
       "<p>14787 rows × 9 columns</p>\n",
       "</div>"
      ],
      "text/plain": [
       "       start_scan_to_end_scan  ord_diff_hour  actual_distance_to_destination  \\\n",
       "0                      2259.0    2260.109800                      824.732854   \n",
       "1                       180.0     181.611874                       73.186911   \n",
       "2                      3933.0    3934.362520                     1927.404273   \n",
       "3                       100.0     100.494935                       17.175274   \n",
       "4                       717.0     718.349042                      127.448500   \n",
       "...                       ...            ...                             ...   \n",
       "14782                   257.0     258.028928                       57.762332   \n",
       "14783                    60.0      60.590521                       15.513784   \n",
       "14784                   421.0     422.119867                       38.684839   \n",
       "14785                   347.0     348.512862                      134.723836   \n",
       "14786                   353.0     354.407571                       66.081533   \n",
       "\n",
       "       actual_time  osrm_time  osrm_distance  segment_actual_time_sum  \\\n",
       "0           1562.0      717.0       991.3523                   1548.0   \n",
       "1            143.0       68.0        85.1110                    141.0   \n",
       "2           3347.0     1740.0      2354.0665                   3308.0   \n",
       "3             59.0       15.0        19.6800                     59.0   \n",
       "4            341.0      117.0       146.7918                    340.0   \n",
       "...            ...        ...            ...                      ...   \n",
       "14782         83.0       62.0        73.4630                     82.0   \n",
       "14783         21.0       12.0        16.0882                     21.0   \n",
       "14784        282.0       48.0        58.9037                    281.0   \n",
       "14785        264.0      179.0       171.1103                    258.0   \n",
       "14786        275.0       68.0        80.5787                    274.0   \n",
       "\n",
       "       segment_osrm_distance_sum  segment_osrm_time_sum  \n",
       "0                      1320.4733                 1008.0  \n",
       "1                        84.1894                   65.0  \n",
       "2                      2545.2678                 1941.0  \n",
       "3                        19.8766                   16.0  \n",
       "4                       146.7919                  115.0  \n",
       "...                          ...                    ...  \n",
       "14782                    64.8551                   62.0  \n",
       "14783                    16.0883                   11.0  \n",
       "14784                   104.8866                   88.0  \n",
       "14785                   223.5324                  221.0  \n",
       "14786                    80.5787                   67.0  \n",
       "\n",
       "[14787 rows x 9 columns]"
      ]
     },
     "execution_count": 139,
     "metadata": {},
     "output_type": "execute_result"
    }
   ],
   "source": [
    "# choose numerical/float features\n",
    "trip = trips.select_dtypes(include='float')\n",
    "trip"
   ]
  },
  {
   "cell_type": "code",
   "execution_count": 137,
   "id": "458cd832-332d-466f-8afb-842c93867271",
   "metadata": {},
   "outputs": [
    {
     "data": {
      "image/png": "[encoded data removed]",
      "text/plain": [
       "<Figure size 2000x600 with 1 Axes>"
      ]
     },
     "metadata": {},
     "output_type": "display_data"
    }
   ],
   "source": [
    "# Checking outliers using violinplot\n",
    "plt.figure(figsize=(20,6))\n",
    "sns.violinplot(data = trip)\n",
    "plt.xticks(rotation=45)\n",
    "plt.draw()"
   ]
  },
  {
   "cell_type": "markdown",
   "id": "69348e75-3b2d-4b89-91a4-1e2361f178fa",
   "metadata": {},
   "source": [
    "##### *The long tail in every column clearly shows that there are outliers in all the numerical columns*"
   ]
  },
  {
   "cell_type": "code",
   "execution_count": null,
   "id": "39a700d2-ec55-483f-bc0e-3861bd454252",
   "metadata": {},
   "outputs": [],
   "source": []
  }
 ],
 "metadata": {
  "kernelspec": {
   "display_name": "Python 3 (ipykernel)",
   "language": "python",
   "name": "python3"
  },
  "language_info": {
   "codemirror_mode": {
    "name": "ipython",
    "version": 3
   },
   "file_extension": ".py",
   "mimetype": "text/x-python",
   "name": "python",
   "nbconvert_exporter": "python",
   "pygments_lexer": "ipython3",
   "version": "3.12.4"
  }
 },
 "nbformat": 4,
 "nbformat_minor": 5
}
